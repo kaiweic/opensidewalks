{
 "cells": [
  {
   "cell_type": "code",
   "execution_count": null,
   "metadata": {
    "scrolled": true
   },
   "outputs": [],
   "source": [
    "import geopandas as gpd\n",
    "import pandas as pd\n",
    "import urllib.request as ur\n",
    "import json\n",
    "import geopandas as gpd\n",
    "from shapely.geometry import Point, LineString\n",
    "import math\n",
    "%matplotlib inline"
   ]
  },
  {
   "cell_type": "code",
   "execution_count": null,
   "metadata": {
    "scrolled": true
   },
   "outputs": [],
   "source": [
    "origin_coord = []\n",
    "origin_coord.append([47.614572,-122.346023]) # origin\n",
    "origin_coord.append([47.614437, -122.317527]) # dest\n",
    "url = ur.urlopen('https://www.accessmap.io/api/v2/route.json?origin=' + str(origin_coord[0][0]) + '%2C' + str(origin_coord[0][1]) + '&destination=' + str(origin_coord[1][0]) + '%2C' + str(origin_coord[1][1]) + '')\n",
    "d = url.read().decode() #decode(\"utf-8\")"
   ]
  },
  {
   "cell_type": "code",
   "execution_count": null,
   "metadata": {
    "scrolled": true
   },
   "outputs": [],
   "source": [
    "data = json.loads(d)"
   ]
  },
  {
   "cell_type": "code",
   "execution_count": null,
   "metadata": {
    "scrolled": true
   },
   "outputs": [],
   "source": [
    "#https://stackoverflow.com/questions/21104592/json-to-pandas-dataframe\n",
    "\n",
    "coord = []\n",
    "coord.append([float(data['origin']['geometry']['coordinates'][0]), float(data['origin']['geometry']['coordinates'][1])])\n",
    "for result in data['routes'][0]['geometry']['coordinates']:\n",
    "    coord.append(result)\n",
    "coord.append([float(data['destination']['geometry']['coordinates'][0]), float(data['destination']['geometry']['coordinates'][1])])\n",
    "\n",
    "df = pd.DataFrame(coord)"
   ]
  },
  {
   "cell_type": "code",
   "execution_count": null,
   "metadata": {
    "scrolled": false
   },
   "outputs": [],
   "source": [
    "#https://gis.stackexchange.com/questions/174159/convert-a-pandas-dataframe-to-a-geodataframe\n",
    "\n",
    "geometry = [Point(xy) for xy in zip(df[0], df[1])]\n",
    "gdf = gpd.GeoDataFrame(geometry=geometry)"
   ]
  },
  {
   "cell_type": "code",
   "execution_count": null,
   "metadata": {
    "scrolled": true
   },
   "outputs": [],
   "source": [
    "list1 = []\n",
    "for i in range(0, len(gdf) - 1):\n",
    "    list1.append(LineString([gdf.geometry[i], gdf.geometry[i+1]]).buffer(0.0001))\n",
    "dataframe = pd.DataFrame(list1)\n",
    "dataframe.columns = ['geometry']"
   ]
  },
  {
   "cell_type": "code",
   "execution_count": null,
   "metadata": {
    "scrolled": true
   },
   "outputs": [],
   "source": [
    "gdf = gpd.GeoDataFrame(dataframe.geometry)"
   ]
  },
  {
   "cell_type": "code",
   "execution_count": null,
   "metadata": {
    "scrolled": true
   },
   "outputs": [],
   "source": [
    "gdf.plot(color='blue', figsize=(9,9))"
   ]
  },
  {
   "cell_type": "code",
   "execution_count": null,
   "metadata": {
    "scrolled": true
   },
   "outputs": [],
   "source": [
    "#http://michelleful.github.io/code-blog/2015/04/29/geopandas-manipulation/\n",
    "\n",
    "all_data = gpd.read_file(\"SidewalkObservations.shp\")\n",
    "issue_data = all_data[all_data.SURFACE_CO != \"\"]\n",
    "\n",
    "count = 0\n",
    "for region in gdf.geometry:\n",
    "    for point in issue_data.geometry:\n",
    "        if point.within(region) is True: \n",
    "            count += 1\n",
    "            break\n",
    "count"
   ]
  }
 ],
 "metadata": {
  "kernelspec": {
   "display_name": "Python 3",
   "language": "python",
   "name": "python3"
  },
  "language_info": {
   "codemirror_mode": {
    "name": "ipython",
    "version": 3
   },
   "file_extension": ".py",
   "mimetype": "text/x-python",
   "name": "python",
   "nbconvert_exporter": "python",
   "pygments_lexer": "ipython3",
   "version": "3.5.1"
  }
 },
 "nbformat": 4,
 "nbformat_minor": 2
}
